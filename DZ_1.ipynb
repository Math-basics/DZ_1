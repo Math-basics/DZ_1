{
 "cells": [
  {
   "cell_type": "code",
   "execution_count": 33,
   "id": "f259db78",
   "metadata": {},
   "outputs": [],
   "source": [
    "# Загружаем библиотеки:\n",
    "# для работы с математикой\n",
    "import numpy as np\n",
    "# для построения графиков\n",
    "import matplotlib.pyplot as plt\n",
    "# для преобразования выражений\n",
    "import sympy as sym"
   ]
  },
  {
   "cell_type": "markdown",
   "id": "560589d3",
   "metadata": {},
   "source": [
    "#### Задание 1"
   ]
  },
  {
   "cell_type": "code",
   "execution_count": 7,
   "id": "d1aa8319",
   "metadata": {},
   "outputs": [],
   "source": [
    "# Исходные данные\n",
    "x = np.array([1, 1]) \n",
    "y = np.array([2, 0])\n",
    "z = np.array([0, 2])"
   ]
  },
  {
   "cell_type": "code",
   "execution_count": 16,
   "id": "3a0f95d5",
   "metadata": {},
   "outputs": [
    {
     "data": {
      "image/png": "[encoded data removed]",
      "text/plain": [
       "<Figure size 360x360 with 1 Axes>"
      ]
     },
     "metadata": {
      "needs_background": "light"
     },
     "output_type": "display_data"
    }
   ],
   "source": [
    "# Изобразим векторы на графике\n",
    "\n",
    "# Поле графика и оси\n",
    "plt.figure(figsize = (5, 5)) \n",
    "plt.xlim(-1, 4)\n",
    "plt.ylim(-1, 4)\n",
    "plt.grid(linestyle = '--')\n",
    "\n",
    "# Векторы\n",
    "plt.arrow(0, 0, x[0], x[1], width = 0.02, color = 'red', head_width = 0.1, length_includes_head = True, zorder = 2)\n",
    "plt.arrow(0, 0, y[0], y[1], width = 0.02, color = 'blue', head_width = 0.1, length_includes_head = True, zorder = 2)\n",
    "plt.arrow(0, 0, z[0], z[1], width = 0.02, color = 'green', head_width = 0.1, length_includes_head = True, zorder = 2)\n",
    "# Пояснения\n",
    "plt.text(x[0] + 0.1, x[1] + 0.1, f'x ({x[0]}, {x[1]})', fontsize = 'x-large', zorder = 2)\n",
    "plt.text(y[0] + 0.1, y[1] + 0.1, f'y ({y[0]}, {y[1]})', fontsize = 'x-large', zorder = 2)\n",
    "plt.text(z[0] + 0.1, z[1] + 0.1, f'z ({z[0]}, {z[1]})', fontsize = 'x-large', zorder = 2)\n",
    "\n",
    "plt.show()"
   ]
  },
  {
   "cell_type": "code",
   "execution_count": 17,
   "id": "11c861bc",
   "metadata": {},
   "outputs": [
    {
     "data": {
      "image/png": "[encoded data removed]",
      "text/plain": [
       "<Figure size 360x360 with 1 Axes>"
      ]
     },
     "metadata": {
      "needs_background": "light"
     },
     "output_type": "display_data"
    }
   ],
   "source": [
    "# Изобразим точку x + y + z\n",
    "xyz_sum = x + y + z\n",
    "\n",
    "plt.figure(figsize = (5, 5)) \n",
    "plt.xlim(-1, 4)\n",
    "plt.ylim(-1, 4)\n",
    "plt.grid(linestyle = '--')\n",
    "plt.plot(xyz_sum[0], xyz_sum[1], marker = 'o')\n",
    "plt.text(xyz_sum[0], xyz_sum[1] + 0.2, 'x + y + z', horizontalalignment = 'center', fontsize = 'x-large', zorder = 2)\n",
    "\n",
    "plt.show()"
   ]
  },
  {
   "cell_type": "code",
   "execution_count": 14,
   "id": "97569646",
   "metadata": {},
   "outputs": [
    {
     "name": "stdout",
     "output_type": "stream",
     "text": [
      "Угол между векторами x и y составляет 45 градусов\n"
     ]
    }
   ],
   "source": [
    "# Угол между векторами x и y\n",
    "# По свойству скалярного произведения векторов\n",
    "cos_xy = np.dot(x, y) / (np.linalg.norm(x) * np.linalg.norm(y))\n",
    "# Переведём в градусы\n",
    "print(f'Угол между векторами x и y составляет {int(np.degrees(np.arccos(cos_xy)))} градусов')"
   ]
  },
  {
   "cell_type": "markdown",
   "id": "acd38222",
   "metadata": {},
   "source": [
    "#### Задание 2"
   ]
  },
  {
   "cell_type": "code",
   "execution_count": 25,
   "id": "82c25492",
   "metadata": {},
   "outputs": [
    {
     "name": "stdout",
     "output_type": "stream",
     "text": [
      "A =\n",
      "[[1 2 3]\n",
      " [4 5 6]\n",
      " [7 8 9]]\n"
     ]
    }
   ],
   "source": [
    "# Создайте матрицу 3 на 3, заполненную числами от 1 до 9\n",
    "A = np.array([[1, 2, 3], [4, 5, 6], [7, 8, 9]])\n",
    "print(f'A =\\n{A}')"
   ]
  },
  {
   "cell_type": "code",
   "execution_count": 26,
   "id": "61c9a3ea",
   "metadata": {},
   "outputs": [
    {
     "name": "stdout",
     "output_type": "stream",
     "text": [
      "B = A + I =\n",
      "[[ 2  2  3]\n",
      " [ 4  6  6]\n",
      " [ 7  8 10]]\n"
     ]
    }
   ],
   "source": [
    "# Прибавьте к ней матрицу с единицами на диагонали\n",
    "B = A + np.eye(3, dtype = int)\n",
    "print(f'B = A + I =\\n{B}')"
   ]
  },
  {
   "cell_type": "code",
   "execution_count": 32,
   "id": "e743aa75",
   "metadata": {},
   "outputs": [
    {
     "name": "stdout",
     "output_type": "stream",
     "text": [
      "v = [1 2 3]\n",
      "B * v = [15 34 53]\n"
     ]
    }
   ],
   "source": [
    "# Умножьте полученную матрицу на вектор (1, 2, 3)\n",
    "v = np.array([1, 2, 3])\n",
    "print(f'v = {v}')\n",
    "u = np.matmul(B, v)\n",
    "print(f'B * v = {u}')"
   ]
  },
  {
   "cell_type": "markdown",
   "id": "de4d1e93",
   "metadata": {},
   "source": [
    "#### Задание 3"
   ]
  },
  {
   "cell_type": "code",
   "execution_count": 56,
   "id": "b935e98e",
   "metadata": {},
   "outputs": [
    {
     "name": "stdout",
     "output_type": "stream",
     "text": [
      "Первая производная 3*x*(6*x + 3)*(x**2 + x)**2 + 3*(x**2 + x)**3\n",
      "Значение в точке x = 1: 132\n",
      "\n",
      "Вторая производная 3*x*(4*x + 2)*(6*x + 3)*(x**2 + x) + 18*x*(x**2 + x)**2 + 6*(6*x + 3)*(x**2 + x)**2\n",
      "Значение в точке x = 1: 612\n"
     ]
    }
   ],
   "source": [
    "# Объявляем символ \"х\"\n",
    "x = sym.symbols('x')\n",
    "# Исходная функция\n",
    "f = 3 * x * (x ** 2 + x) ** 3\n",
    "# Первая производная и значение в точке x = 1\n",
    "f_1 = f.diff(x)\n",
    "print(f'Первая производная {f_1}\\nЗначение в точке x = 1: {f_1.subs(x,1)}\\n')\n",
    "# Вторая производная и значение в точке x = 1\n",
    "f_2 = f_1.diff(x)\n",
    "print(f'Вторая производная {f_2}\\nЗначение в точке x = 1: {f_2.subs(x,1)}')"
   ]
  }
 ],
 "metadata": {
  "kernelspec": {
   "display_name": "Python 3",
   "language": "python",
   "name": "python3"
  },
  "language_info": {
   "codemirror_mode": {
    "name": "ipython",
    "version": 3
   },
   "file_extension": ".py",
   "mimetype": "text/x-python",
   "name": "python",
   "nbconvert_exporter": "python",
   "pygments_lexer": "ipython3",
   "version": "3.8.8"
  }
 },
 "nbformat": 4,
 "nbformat_minor": 5
}
