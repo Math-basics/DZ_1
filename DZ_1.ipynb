{
 "cells": [
  {
   "cell_type": "code",
   "execution_count": 8,
   "metadata": {},
   "outputs": [],
   "source": [
    "# Загружаем библиотеки:\n",
    "# для работы с математикой\n",
    "import numpy as np\n",
    "# для построения графиков\n",
    "import matplotlib.pyplot as plt"
   ]
  },
  {
   "cell_type": "code",
   "execution_count": 118,
   "metadata": {},
   "outputs": [
    {
     "data": {
      "image/png": "[encoded data removed]",
      "text/plain": [
       "<Figure size 360x360 with 1 Axes>"
      ]
     },
     "metadata": {
      "needs_background": "light"
     },
     "output_type": "display_data"
    },
    {
     "name": "stdout",
     "output_type": "stream",
     "text": [
      "Угол между векторами x и y составляет 45 градусов\n"
     ]
    }
   ],
   "source": [
    "# Исходные данные\n",
    "x = np.array([1, 1]) \n",
    "y = np.array([2, 0])\n",
    "z = np.array([0, 2])\n",
    "\n",
    "# Изобразим вектора на графике\n",
    "\n",
    "# Поле графика и оси\n",
    "plt.figure(figsize=(5, 5)) \n",
    "plt.xlim(-1, 4)\n",
    "plt.ylim(-1, 4)\n",
    "plt.grid(linestyle = '--')\n",
    "\n",
    "# Векторы\n",
    "plt.arrow(0, 0, x[0], x[1], width = 0.02, color = 'red', head_width = 0.1, length_includes_head = True, zorder = 2)\n",
    "plt.arrow(0, 0, y[0], y[1], width = 0.02, color = 'blue', head_width = 0.1, length_includes_head = True, zorder = 2)\n",
    "plt.arrow(0, 0, z[0], z[1], width = 0.02, color = 'green', head_width = 0.1, length_includes_head = True, zorder = 2)\n",
    "# Пояснения\n",
    "plt.text(x[0] + 0.1, x[1] + 0.1, f'x ({x[0]}, {x[1]})', fontsize = 'x-large', zorder = 2)\n",
    "plt.text(y[0] + 0.1, y[1] + 0.1, f'y ({y[0]}, {y[1]})', fontsize = 'x-large', zorder = 2)\n",
    "plt.text(z[0] + 0.1, z[1] + 0.1, f'z ({z[0]}, {z[1]})', fontsize = 'x-large', zorder = 2)\n",
    "\n",
    "# Точка x + y + z\n",
    "xyz_sum = x + y + z\n",
    "plt.plot(xyz_sum[0], xyz_sum[1], marker = 'o')\n",
    "plt.text(xyz_sum[0], xyz_sum[1] + 0.2, 'x + y + z', horizontalalignment = 'center', fontsize = 'x-large', zorder = 2)\n",
    "\n",
    "plt.show()\n",
    "\n",
    "# Угол между векторами x и y\n",
    "# По свойству скалярного произведения векторов\n",
    "cos_xy = np.dot(x, y) / (np.linalg.norm(x) * np.linalg.norm(y))\n",
    "# Переведём в градусы\n",
    "print(f'Угол между векторами x и y составляет {int(np.degrees(np.arccos(cos_xy)))} градусов')\n",
    "\n"
   ]
  }
 ],
 "metadata": {
  "kernelspec": {
   "display_name": "Python 3",
   "language": "python",
   "name": "python3"
  },
  "language_info": {
   "codemirror_mode": {
    "name": "ipython",
    "version": 3
   },
   "file_extension": ".py",
   "mimetype": "text/x-python",
   "name": "python",
   "nbconvert_exporter": "python",
   "pygments_lexer": "ipython3",
   "version": "3.8.5"
  }
 },
 "nbformat": 4,
 "nbformat_minor": 4
}
